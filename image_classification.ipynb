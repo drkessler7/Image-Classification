{
 "cells": [
  {
   "cell_type": "markdown",
   "metadata": {
    "collapsed": true
   },
   "source": [
    "# Image Classification\n",
    "In this project, you'll classify images from the [CIFAR-10 dataset](https://www.cs.toronto.edu/~kriz/cifar.html).  The dataset consists of airplanes, dogs, cats, and other objects. You'll preprocess the images, then train a convolutional neural network on all the samples. The images need to be normalized and the labels need to be one-hot encoded.  You'll get to apply what you learned and build a convolutional, max pooling, dropout, and fully connected layers.  At the end, you'll get to see your neural network's predictions on the sample images.\n",
    "## Get the Data\n",
    "Run the following cell to download the [CIFAR-10 dataset for python](https://www.cs.toronto.edu/~kriz/cifar-10-python.tar.gz)."
   ]
  },
  {
   "cell_type": "code",
   "execution_count": 1,
   "metadata": {},
   "outputs": [
    {
     "name": "stdout",
     "output_type": "stream",
     "text": [
      "All files found!\n"
     ]
    }
   ],
   "source": [
    "\"\"\"\n",
    "DON'T MODIFY ANYTHING IN THIS CELL THAT IS BELOW THIS LINE\n",
    "\"\"\"\n",
    "from urllib.request import urlretrieve\n",
    "from os.path import isfile, isdir\n",
    "from tqdm import tqdm\n",
    "import problem_unittests as tests\n",
    "import tarfile\n",
    "\n",
    "cifar10_dataset_folder_path = 'cifar-10-batches-py'\n",
    "\n",
    "class DLProgress(tqdm):\n",
    "    last_block = 0\n",
    "\n",
    "    def hook(self, block_num=1, block_size=1, total_size=None):\n",
    "        self.total = total_size\n",
    "        self.update((block_num - self.last_block) * block_size)\n",
    "        self.last_block = block_num\n",
    "\n",
    "if not isfile('cifar-10-python.tar.gz'):\n",
    "    with DLProgress(unit='B', unit_scale=True, miniters=1, desc='CIFAR-10 Dataset') as pbar:\n",
    "        urlretrieve(\n",
    "            'https://www.cs.toronto.edu/~kriz/cifar-10-python.tar.gz',\n",
    "            'cifar-10-python.tar.gz',\n",
    "            pbar.hook)\n",
    "\n",
    "if not isdir(cifar10_dataset_folder_path):\n",
    "    with tarfile.open('cifar-10-python.tar.gz') as tar:\n",
    "        tar.extractall()\n",
    "        tar.close()\n",
    "\n",
    "\n",
    "tests.test_folder_path(cifar10_dataset_folder_path)"
   ]
  },
  {
   "cell_type": "markdown",
   "metadata": {},
   "source": [
    "## Explore the Data\n",
    "The dataset is broken into batches to prevent your machine from running out of memory.  The CIFAR-10 dataset consists of 5 batches, named `data_batch_1`, `data_batch_2`, etc.. Each batch contains the labels and images that are one of the following:\n",
    "* airplane\n",
    "* automobile\n",
    "* bird\n",
    "* cat\n",
    "* deer\n",
    "* dog\n",
    "* frog\n",
    "* horse\n",
    "* ship\n",
    "* truck\n",
    "\n",
    "Understanding a dataset is part of making predictions on the data.  Play around with the code cell below by changing the `batch_id` and `sample_id`. The `batch_id` is the id for a batch (1-5). The `sample_id` is the id for a image and label pair in the batch.\n",
    "\n",
    "Ask yourself \"What are all possible labels?\", \"What is the range of values for the image data?\", \"Are the labels in order or random?\".  Answers to questions like these will help you preprocess the data and end up with better predictions."
   ]
  },
  {
   "cell_type": "code",
   "execution_count": 2,
   "metadata": {},
   "outputs": [
    {
     "name": "stdout",
     "output_type": "stream",
     "text": [
      "\n",
      "Stats of batch 3:\n",
      "Samples: 10000\n",
      "Label Counts: {0: 994, 1: 1042, 2: 965, 3: 997, 4: 990, 5: 1029, 6: 978, 7: 1015, 8: 961, 9: 1029}\n",
      "First 20 Labels: [8, 5, 0, 6, 9, 2, 8, 3, 6, 2, 7, 4, 6, 9, 0, 0, 7, 3, 7, 2]\n",
      "\n",
      "Example of Image 2:\n",
      "Image - Min Value: 21 Max Value: 255\n",
      "Image - Shape: (32, 32, 3)\n",
      "Label - Label Id: 0 Name: airplane\n"
     ]
    },
    {
     "data": {
      "image/png": "[encoded data removed]",
      "text/plain": [
       "<matplotlib.figure.Figure at 0xc1edfd0>"
      ]
     },
     "metadata": {
      "image/png": {
       "height": 250,
       "width": 253
      }
     },
     "output_type": "display_data"
    }
   ],
   "source": [
    "%matplotlib inline\n",
    "%config InlineBackend.figure_format = 'retina'\n",
    "\n",
    "import helper\n",
    "import numpy as np\n",
    "\n",
    "# Explore the dataset\n",
    "batch_id = 3\n",
    "sample_id = 2\n",
    "helper.display_stats(cifar10_dataset_folder_path, batch_id, sample_id)"
   ]
  },
  {
   "cell_type": "markdown",
   "metadata": {},
   "source": [
    "## Implement Preprocess Functions\n",
    "### Normalize\n",
    "In the cell below, implement the `normalize` function to take in image data, `x`, and return it as a normalized Numpy array. The values should be in the range of 0 to 1, inclusive.  The return object should be the same shape as `x`."
   ]
  },
  {
   "cell_type": "code",
   "execution_count": 3,
   "metadata": {},
   "outputs": [
    {
     "name": "stdout",
     "output_type": "stream",
     "text": [
      "Tests Passed\n"
     ]
    }
   ],
   "source": [
    "def normalize(x):\n",
    "    \"\"\"\n",
    "    Normalize a list of sample image data in the range of 0 to 1\n",
    "    : x: List of image data.  The image shape is (32, 32, 3)\n",
    "    : return: Numpy array of normalize data\n",
    "    \"\"\"\n",
    "    # TODO: Implement Function\n",
    "    return np.array(x/255)\n",
    "\n",
    "\n",
    "\"\"\"\n",
    "DON'T MODIFY ANYTHING IN THIS CELL THAT IS BELOW THIS LINE\n",
    "\"\"\"\n",
    "tests.test_normalize(normalize)"
   ]
  },
  {
   "cell_type": "markdown",
   "metadata": {},
   "source": [
    "### One-hot encode\n",
    "Just like the previous code cell, you'll be implementing a function for preprocessing.  This time, you'll implement the `one_hot_encode` function. The input, `x`, are a list of labels.  Implement the function to return the list of labels as One-Hot encoded Numpy array.  The possible values for labels are 0 to 9. The one-hot encoding function should return the same encoding for each value between each call to `one_hot_encode`.  Make sure to save the map of encodings outside the function.\n",
    "\n",
    "**Hint:**\n",
    "\n",
    "Look into LabelBinarizer in the preprocessing module of sklearn."
   ]
  },
  {
   "cell_type": "code",
   "execution_count": 4,
   "metadata": {},
   "outputs": [
    {
     "name": "stdout",
     "output_type": "stream",
     "text": [
      "Tests Passed\n"
     ]
    }
   ],
   "source": [
    "def one_hot_encode(x):\n",
    "    \"\"\"\n",
    "    One hot encode a list of sample labels. Return a one-hot encoded vector for each label.\n",
    "    : x: List of sample Labels\n",
    "    : return: Numpy array of one-hot encoded labels\n",
    "    \"\"\"\n",
    "    # TODO: Implement Function\n",
    "    from sklearn import preprocessing\n",
    "    lb = preprocessing.LabelBinarizer()\n",
    "    lb.fit([0, 1, 2, 3, 4, 5, 6, 7, 8, 9])\n",
    "    return lb.transform(x)\n",
    "\n",
    "\n",
    "\"\"\"\n",
    "DON'T MODIFY ANYTHING IN THIS CELL THAT IS BELOW THIS LINE\n",
    "\"\"\"\n",
    "tests.test_one_hot_encode(one_hot_encode)"
   ]
  },
  {
   "cell_type": "markdown",
   "metadata": {},
   "source": [
    "### Randomize Data\n",
    "As you saw from exploring the data above, the order of the samples are randomized.  It doesn't hurt to randomize it again, but you don't need to for this dataset."
   ]
  },
  {
   "cell_type": "markdown",
   "metadata": {},
   "source": [
    "## Preprocess all the data and save it\n",
    "Running the code cell below will preprocess all the CIFAR-10 data and save it to file. The code below also uses 10% of the training data for validation."
   ]
  },
  {
   "cell_type": "code",
   "execution_count": 5,
   "metadata": {
    "collapsed": true
   },
   "outputs": [],
   "source": [
    "\"\"\"\n",
    "DON'T MODIFY ANYTHING IN THIS CELL\n",
    "\"\"\"\n",
    "# Preprocess Training, Validation, and Testing Data\n",
    "helper.preprocess_and_save_data(cifar10_dataset_folder_path, normalize, one_hot_encode)"
   ]
  },
  {
   "cell_type": "markdown",
   "metadata": {},
   "source": [
    "# Check Point\n",
    "This is your first checkpoint.  If you ever decide to come back to this notebook or have to restart the notebook, you can start from here.  The preprocessed data has been saved to disk."
   ]
  },
  {
   "cell_type": "code",
   "execution_count": 6,
   "metadata": {
    "collapsed": true
   },
   "outputs": [],
   "source": [
    "\"\"\"\n",
    "DON'T MODIFY ANYTHING IN THIS CELL\n",
    "\"\"\"\n",
    "import pickle\n",
    "import problem_unittests as tests\n",
    "import helper\n",
    "\n",
    "# Load the Preprocessed Validation data\n",
    "valid_features, valid_labels = pickle.load(open('preprocess_validation.p', mode='rb'))"
   ]
  },
  {
   "cell_type": "markdown",
   "metadata": {},
   "source": [
    "## Build the network\n",
    "For the neural network, you'll build each layer into a function.  Most of the code you've seen has been outside of functions. To test your code more thoroughly, we require that you put each layer in a function.  This allows us to give you better feedback and test for simple mistakes using our unittests before you submit your project.\n",
    "\n",
    ">**Note:** If you're finding it hard to dedicate enough time for this course each week, we've provided a small shortcut to this part of the project. In the next couple of problems, you'll have the option to use classes from the [TensorFlow Layers](https://www.tensorflow.org/api_docs/python/tf/layers) or [TensorFlow Layers (contrib)](https://www.tensorflow.org/api_guides/python/contrib.layers) packages to build each layer, except the layers you build in the \"Convolutional and Max Pooling Layer\" section.  TF Layers is similar to Keras's and TFLearn's abstraction to layers, so it's easy to pickup.\n",
    "\n",
    ">However, if you would like to get the most out of this course, try to solve all the problems _without_ using anything from the TF Layers packages. You **can** still use classes from other packages that happen to have the same name as ones you find in TF Layers! For example, instead of using the TF Layers version of the `conv2d` class, [tf.layers.conv2d](https://www.tensorflow.org/api_docs/python/tf/layers/conv2d), you would want to use the TF Neural Network version of `conv2d`, [tf.nn.conv2d](https://www.tensorflow.org/api_docs/python/tf/nn/conv2d). \n",
    "\n",
    "Let's begin!\n",
    "\n",
    "### Input\n",
    "The neural network needs to read the image data, one-hot encoded labels, and dropout keep probability. Implement the following functions\n",
    "* Implement `neural_net_image_input`\n",
    " * Return a [TF Placeholder](https://www.tensorflow.org/api_docs/python/tf/placeholder)\n",
    " * Set the shape using `image_shape` with batch size set to `None`.\n",
    " * Name the TensorFlow placeholder \"x\" using the TensorFlow `name` parameter in the [TF Placeholder](https://www.tensorflow.org/api_docs/python/tf/placeholder).\n",
    "* Implement `neural_net_label_input`\n",
    " * Return a [TF Placeholder](https://www.tensorflow.org/api_docs/python/tf/placeholder)\n",
    " * Set the shape using `n_classes` with batch size set to `None`.\n",
    " * Name the TensorFlow placeholder \"y\" using the TensorFlow `name` parameter in the [TF Placeholder](https://www.tensorflow.org/api_docs/python/tf/placeholder).\n",
    "* Implement `neural_net_keep_prob_input`\n",
    " * Return a [TF Placeholder](https://www.tensorflow.org/api_docs/python/tf/placeholder) for dropout keep probability.\n",
    " * Name the TensorFlow placeholder \"keep_prob\" using the TensorFlow `name` parameter in the [TF Placeholder](https://www.tensorflow.org/api_docs/python/tf/placeholder).\n",
    "\n",
    "These names will be used at the end of the project to load your saved model.\n",
    "\n",
    "Note: `None` for shapes in TensorFlow allow for a dynamic size."
   ]
  },
  {
   "cell_type": "code",
   "execution_count": 7,
   "metadata": {},
   "outputs": [
    {
     "name": "stdout",
     "output_type": "stream",
     "text": [
      "Image Input Tests Passed.\n",
      "Label Input Tests Passed.\n",
      "Keep Prob Tests Passed.\n"
     ]
    }
   ],
   "source": [
    "import tensorflow as tf\n",
    "\n",
    "def neural_net_image_input(image_shape):\n",
    "    \"\"\"\n",
    "    Return a Tensor for a batch of image input\n",
    "    : image_shape: Shape of the images\n",
    "    : return: Tensor for image input.\n",
    "    \"\"\"\n",
    "    # TODO: Implement Function\n",
    "    return tf.placeholder(tf.float32, shape = (None, image_shape[0], image_shape[1], image_shape[2]), name = 'x')\n",
    "\n",
    "\n",
    "def neural_net_label_input(n_classes):\n",
    "    \"\"\"\n",
    "    Return a Tensor for a batch of label input\n",
    "    : n_classes: Number of classes\n",
    "    : return: Tensor for label input.\n",
    "    \"\"\"\n",
    "    # TODO: Implement Function\n",
    "    return tf.placeholder(tf.float32, shape = (None, n_classes), name = 'y')\n",
    "\n",
    "\n",
    "def neural_net_keep_prob_input():\n",
    "    \"\"\"\n",
    "    Return a Tensor for keep probability\n",
    "    : return: Tensor for keep probability.\n",
    "    \"\"\"\n",
    "    # TODO: Implement Function\n",
    "    return tf.placeholder(tf.float32, name = 'keep_prob')\n",
    "\n",
    "\n",
    "\"\"\"\n",
    "DON'T MODIFY ANYTHING IN THIS CELL THAT IS BELOW THIS LINE\n",
    "\"\"\"\n",
    "tf.reset_default_graph()\n",
    "tests.test_nn_image_inputs(neural_net_image_input)\n",
    "tests.test_nn_label_inputs(neural_net_label_input)\n",
    "tests.test_nn_keep_prob_inputs(neural_net_keep_prob_input)"
   ]
  },
  {
   "cell_type": "markdown",
   "metadata": {},
   "source": [
    "### Convolution and Max Pooling Layer\n",
    "Convolution layers have a lot of success with images. For this code cell, you should implement the function `conv2d_maxpool` to apply convolution then max pooling:\n",
    "* Create the weight and bias using `conv_ksize`, `conv_num_outputs` and the shape of `x_tensor`.\n",
    "* Apply a convolution to `x_tensor` using weight and `conv_strides`.\n",
    " * We recommend you use same padding, but you're welcome to use any padding.\n",
    "* Add bias\n",
    "* Add a nonlinear activation to the convolution.\n",
    "* Apply Max Pooling using `pool_ksize` and `pool_strides`.\n",
    " * We recommend you use same padding, but you're welcome to use any padding.\n",
    "\n",
    "**Note:** You **can't** use [TensorFlow Layers](https://www.tensorflow.org/api_docs/python/tf/layers) or [TensorFlow Layers (contrib)](https://www.tensorflow.org/api_guides/python/contrib.layers) for **this** layer, but you can still use TensorFlow's [Neural Network](https://www.tensorflow.org/api_docs/python/tf/nn) package. You may still use the shortcut option for all the **other** layers.\n",
    "\n",
    "** Hint: **\n",
    "\n",
    "When unpacking values as an argument in Python, look into the [unpacking](https://docs.python.org/3/tutorial/controlflow.html#unpacking-argument-lists) operator. "
   ]
  },
  {
   "cell_type": "code",
   "execution_count": 19,
   "metadata": {},
   "outputs": [
    {
     "name": "stdout",
     "output_type": "stream",
     "text": [
      "Tests Passed\n"
     ]
    }
   ],
   "source": [
    "def conv2d_maxpool(x_tensor, conv_num_outputs, conv_ksize, conv_strides, pool_ksize, pool_strides):\n",
    "    \"\"\"\n",
    "    Apply convolution then max pooling to x_tensor\n",
    "    :param x_tensor: TensorFlow Tensor\n",
    "    :param conv_num_outputs: Number of outputs for the convolutional layer\n",
    "    :param conv_ksize: kernal size 2-D Tuple for the convolutional layer\n",
    "    :param conv_strides: Stride 2-D Tuple for convolution\n",
    "    :param pool_ksize: kernal size 2-D Tuple for pool\n",
    "    :param pool_strides: Stride 2-D Tuple for pool\n",
    "    : return: A tensor that represents convolution and max pooling of x_tensor\n",
    "    \"\"\"\n",
    "    # TODO: Implement Function\n",
    "    \n",
    "    weight = tf.Variable(tf.truncated_normal([conv_ksize[0], \n",
    "                                                   conv_ksize[1], \n",
    "                                                   x_tensor.get_shape().as_list()[3], \n",
    "                                                   conv_num_outputs], \n",
    "                                             stddev=0.1))\n",
    "    bias = tf.Variable(tf.zeros(conv_num_outputs, dtype=tf.float32))\n",
    "\n",
    "    conv_layer = tf.nn.conv2d(x_tensor, \n",
    "                              weight, \n",
    "                              strides=[1, conv_strides[0], conv_strides[1], 1], \n",
    "                              padding='SAME')\n",
    "    conv_layer = tf.add(conv_layer, bias)\n",
    "    conv_layer = tf.nn.relu(conv_layer)\n",
    "    \n",
    "    max_pooling_conv = tf.nn.max_pool(conv_layer, \n",
    "                                ksize=[1, pool_ksize[0], pool_ksize[1], 1], \n",
    "                                strides=[1, pool_strides[0], pool_strides[1], 1],\n",
    "                                padding='SAME')\n",
    "    return max_pooling_conv\n",
    "    \n",
    "    \n",
    "\n",
    "\"\"\"\n",
    "DON'T MODIFY ANYTHING IN THIS CELL THAT IS BELOW THIS LINE\n",
    "\"\"\"\n",
    "tests.test_con_pool(conv2d_maxpool)"
   ]
  },
  {
   "cell_type": "markdown",
   "metadata": {},
   "source": [
    "### Flatten Layer\n",
    "Implement the `flatten` function to change the dimension of `x_tensor` from a 4-D tensor to a 2-D tensor.  The output should be the shape (*Batch Size*, *Flattened Image Size*). Shortcut option: you can use classes from the [TensorFlow Layers](https://www.tensorflow.org/api_docs/python/tf/layers) or [TensorFlow Layers (contrib)](https://www.tensorflow.org/api_guides/python/contrib.layers) packages for this layer. For more of a challenge, only use other TensorFlow packages."
   ]
  },
  {
   "cell_type": "code",
   "execution_count": 9,
   "metadata": {},
   "outputs": [
    {
     "name": "stdout",
     "output_type": "stream",
     "text": [
      "Tests Passed\n"
     ]
    }
   ],
   "source": [
    "def flatten(x_tensor):\n",
    "    \"\"\"\n",
    "    Flatten x_tensor to (Batch Size, Flattened Image Size)\n",
    "    : x_tensor: A tensor of size (Batch Size, ...), where ... are the image dimensions.\n",
    "    : return: A tensor of size (Batch Size, Flattened Image Size).\n",
    "    \"\"\"\n",
    "    # TODO: Implement Function\n",
    "    #return tf.contrib.layers.flatten(x_tensor)\n",
    "    tensor_shape = x_tensor.get_shape().as_list()\n",
    "    flattened_shape = np.array(tensor_shape[1:]).prod()\n",
    "    return tf.reshape(x_tensor, [tf.shape(x_tensor)[0], flattened_shape])\n",
    "\n",
    "\n",
    "\"\"\"\n",
    "DON'T MODIFY ANYTHING IN THIS CELL THAT IS BELOW THIS LINE\n",
    "\"\"\"\n",
    "tests.test_flatten(flatten)"
   ]
  },
  {
   "cell_type": "markdown",
   "metadata": {},
   "source": [
    "### Fully-Connected Layer\n",
    "Implement the `fully_conn` function to apply a fully connected layer to `x_tensor` with the shape (*Batch Size*, *num_outputs*). Shortcut option: you can use classes from the [TensorFlow Layers](https://www.tensorflow.org/api_docs/python/tf/layers) or [TensorFlow Layers (contrib)](https://www.tensorflow.org/api_guides/python/contrib.layers) packages for this layer. For more of a challenge, only use other TensorFlow packages."
   ]
  },
  {
   "cell_type": "code",
   "execution_count": 10,
   "metadata": {},
   "outputs": [
    {
     "name": "stdout",
     "output_type": "stream",
     "text": [
      "Tests Passed\n"
     ]
    }
   ],
   "source": [
    "def fully_conn(x_tensor, num_outputs):\n",
    "    \"\"\"\n",
    "    Apply a fully connected layer to x_tensor using weight and bias\n",
    "    : x_tensor: A 2-D tensor where the first dimension is batch size.\n",
    "    : num_outputs: The number of output that the new tensor should be.\n",
    "    : return: A 2-D tensor where the second dimension is num_outputs.\n",
    "    \"\"\"\n",
    "    # TODO: Implement Function\n",
    "    #return tf.contrib.layers.fully_connected(x_tensor, num_outputs)\n",
    "    flattened_shape = np.array(x_tensor.get_shape().as_list()[1:]).prod()\n",
    "    weights = tf.Variable(tf.truncated_normal([flattened_shape, num_outputs], stddev=0.1))\n",
    "    bias = tf.Variable(tf.zeros([num_outputs]))\n",
    "    return tf.nn.relu(tf.add(tf.matmul(x_tensor, weights), bias))\n",
    "\n",
    "\n",
    "\"\"\"\n",
    "DON'T MODIFY ANYTHING IN THIS CELL THAT IS BELOW THIS LINE\n",
    "\"\"\"\n",
    "tests.test_fully_conn(fully_conn)"
   ]
  },
  {
   "cell_type": "markdown",
   "metadata": {},
   "source": [
    "### Output Layer\n",
    "Implement the `output` function to apply a fully connected layer to `x_tensor` with the shape (*Batch Size*, *num_outputs*). Shortcut option: you can use classes from the [TensorFlow Layers](https://www.tensorflow.org/api_docs/python/tf/layers) or [TensorFlow Layers (contrib)](https://www.tensorflow.org/api_guides/python/contrib.layers) packages for this layer. For more of a challenge, only use other TensorFlow packages.\n",
    "\n",
    "**Note:** Activation, softmax, or cross entropy should **not** be applied to this."
   ]
  },
  {
   "cell_type": "code",
   "execution_count": 11,
   "metadata": {},
   "outputs": [
    {
     "name": "stdout",
     "output_type": "stream",
     "text": [
      "Tests Passed\n"
     ]
    }
   ],
   "source": [
    "def output(x_tensor, num_outputs):\n",
    "    \"\"\"\n",
    "    Apply a output layer to x_tensor using weight and bias\n",
    "    : x_tensor: A 2-D tensor where the first dimension is batch size.\n",
    "    : num_outputs: The number of output that the new tensor should be.\n",
    "    : return: A 2-D tensor where the second dimension is num_outputs.\n",
    "    \"\"\"\n",
    "    # TODO: Implement Function\\\n",
    "    width = x_tensor.get_shape().as_list()[1] \n",
    "    weights = tf.Variable(tf.truncated_normal([width, num_outputs], stddev=0.1))\n",
    "    bias = tf.Variable(tf.zeros([num_outputs]))\n",
    "    return tf.add(tf.matmul(x_tensor, weights), bias)\n",
    "\n",
    "\n",
    "\"\"\"\n",
    "DON'T MODIFY ANYTHING IN THIS CELL THAT IS BELOW THIS LINE\n",
    "\"\"\"\n",
    "tests.test_output(output)"
   ]
  },
  {
   "cell_type": "markdown",
   "metadata": {},
   "source": [
    "### Create Convolutional Model\n",
    "Implement the function `conv_net` to create a convolutional neural network model. The function takes in a batch of images, `x`, and outputs logits.  Use the layers you created above to create this model:\n",
    "\n",
    "* Apply 1, 2, or 3 Convolution and Max Pool layers\n",
    "* Apply a Flatten Layer\n",
    "* Apply 1, 2, or 3 Fully Connected Layers\n",
    "* Apply an Output Layer\n",
    "* Return the output\n",
    "* Apply [TensorFlow's Dropout](https://www.tensorflow.org/api_docs/python/tf/nn/dropout) to one or more layers in the model using `keep_prob`. "
   ]
  },
  {
   "cell_type": "code",
   "execution_count": 12,
   "metadata": {},
   "outputs": [
    {
     "name": "stdout",
     "output_type": "stream",
     "text": [
      "Neural Network Built!\n"
     ]
    }
   ],
   "source": [
    "def conv_net(x, keep_prob):\n",
    "    \"\"\"\n",
    "    Create a convolutional neural network model\n",
    "    : x: Placeholder tensor that holds image data.\n",
    "    : keep_prob: Placeholder tensor that hold dropout keep probability.\n",
    "    : return: Tensor that represents logits\n",
    "    \"\"\"\n",
    "    # TODO: Apply 1, 2, or 3 Convolution and Max Pool layers\n",
    "    #    Play around with different number of outputs, kernel size and stride\n",
    "    # Function Definition from Above:\n",
    "    #    conv2d_maxpool(x_tensor, conv_num_outputs, conv_ksize, conv_strides, pool_ksize, pool_strides)\n",
    "    conv_num_outputs = [20, 40, 80]\n",
    "    conv_ksize = [4, 4]\n",
    "    conv_strides = [1, 1]\n",
    "    pool_ksize = [2, 2]\n",
    "    pool_strides = [2, 2]\n",
    "    conv1 = conv2d_maxpool(x, conv_num_outputs[0], conv_ksize, conv_strides, pool_ksize, pool_strides)\n",
    "    conv2 = conv2d_maxpool(conv1, conv_num_outputs[0], conv_ksize, conv_strides, pool_ksize, pool_strides)\n",
    "    #conv3 = conv2d_maxpool(x, conv_num_outputs[2], conv_ksize, conv_strides, pool_ksize, pool_strides)\n",
    "    \n",
    "\n",
    "    # TODO: Apply a Flatten Layer\n",
    "    # Function Definition from Above:\n",
    "    #   flatten(x_tensor)\n",
    "    flat_conv = flatten(conv1)\n",
    "    \n",
    "\n",
    "    # TODO: Apply 1, 2, or 3 Fully Connected Layers\n",
    "    #    Play around with different number of outputs\n",
    "    # Function Definition from Above:\n",
    "    #   fully_conn(x_tensor, num_outputs)\n",
    "    full_conn1 = fully_conn(flat_conv, 200)\n",
    "    full_conn2 = fully_conn(full_conn1, 100)\n",
    "    \n",
    "    full_drop = tf.nn.dropout(full_conn2, keep_prob)\n",
    "    \n",
    "    \n",
    "    \n",
    "    \n",
    "    # TODO: Apply an Output Layer\n",
    "    #    Set this to the number of classes\n",
    "    # Function Definition from Above:\n",
    "    #   output(x_tensor, num_outputs)\n",
    "    output_layer = output(full_drop, 10)\n",
    "    \n",
    "    \n",
    "    # TODO: return output\n",
    "    return output_layer \n",
    "\n",
    "\n",
    "\"\"\"\n",
    "DON'T MODIFY ANYTHING IN THIS CELL THAT IS BELOW THIS LINE\n",
    "\"\"\"\n",
    "\n",
    "##############################\n",
    "## Build the Neural Network ##\n",
    "##############################\n",
    "\n",
    "# Remove previous weights, bias, inputs, etc..\n",
    "tf.reset_default_graph()\n",
    "\n",
    "# Inputs\n",
    "x = neural_net_image_input((32, 32, 3))\n",
    "y = neural_net_label_input(10)\n",
    "keep_prob = neural_net_keep_prob_input()\n",
    "\n",
    "# Model\n",
    "logits = conv_net(x, keep_prob)\n",
    "\n",
    "# Name logits Tensor, so that is can be loaded from disk after training\n",
    "logits = tf.identity(logits, name='logits')\n",
    "\n",
    "# Loss and Optimizer\n",
    "cost = tf.reduce_mean(tf.nn.softmax_cross_entropy_with_logits(logits=logits, labels=y))\n",
    "optimizer = tf.train.AdamOptimizer().minimize(cost)\n",
    "\n",
    "# Accuracy\n",
    "correct_pred = tf.equal(tf.argmax(logits, 1), tf.argmax(y, 1))\n",
    "accuracy = tf.reduce_mean(tf.cast(correct_pred, tf.float32), name='accuracy')\n",
    "\n",
    "tests.test_conv_net(conv_net)"
   ]
  },
  {
   "cell_type": "markdown",
   "metadata": {},
   "source": [
    "## Train the Neural Network\n",
    "### Single Optimization\n",
    "Implement the function `train_neural_network` to do a single optimization.  The optimization should use `optimizer` to optimize in `session` with a `feed_dict` of the following:\n",
    "* `x` for image input\n",
    "* `y` for labels\n",
    "* `keep_prob` for keep probability for dropout\n",
    "\n",
    "This function will be called for each batch, so `tf.global_variables_initializer()` has already been called.\n",
    "\n",
    "Note: Nothing needs to be returned. This function is only optimizing the neural network."
   ]
  },
  {
   "cell_type": "code",
   "execution_count": 13,
   "metadata": {},
   "outputs": [
    {
     "name": "stdout",
     "output_type": "stream",
     "text": [
      "Tests Passed\n"
     ]
    }
   ],
   "source": [
    "def train_neural_network(session, optimizer, keep_probability, feature_batch, label_batch):\n",
    "    \"\"\"\n",
    "    Optimize the session on a batch of images and labels\n",
    "    : session: Current TensorFlow session\n",
    "    : optimizer: TensorFlow optimizer function\n",
    "    : keep_probability: keep probability\n",
    "    : feature_batch: Batch of Numpy image data\n",
    "    : label_batch: Batch of Numpy label data\n",
    "    \"\"\"\n",
    "    # TODO: Implement Function\n",
    "    session.run(optimizer, feed_dict={x: feature_batch, y:label_batch, keep_prob: keep_probability})\n",
    "\n",
    "\n",
    "\"\"\"\n",
    "DON'T MODIFY ANYTHING IN THIS CELL THAT IS BELOW THIS LINE\n",
    "\"\"\"\n",
    "tests.test_train_nn(train_neural_network)"
   ]
  },
  {
   "cell_type": "markdown",
   "metadata": {},
   "source": [
    "### Show Stats\n",
    "Implement the function `print_stats` to print loss and validation accuracy.  Use the global variables `valid_features` and `valid_labels` to calculate validation accuracy.  Use a keep probability of `1.0` to calculate the loss and validation accuracy."
   ]
  },
  {
   "cell_type": "code",
   "execution_count": 14,
   "metadata": {
    "collapsed": true
   },
   "outputs": [],
   "source": [
    "def print_stats(session, feature_batch, label_batch, cost, accuracy):\n",
    "    \"\"\"\n",
    "    Print information about loss and validation accuracy\n",
    "    : session: Current TensorFlow session\n",
    "    : feature_batch: Batch of Numpy image data\n",
    "    : label_batch: Batch of Numpy label data\n",
    "    : cost: TensorFlow cost function\n",
    "    : accuracy: TensorFlow accuracy function\n",
    "    \"\"\"\n",
    "    # TODO: Implement Function\n",
    "    loss = session.run(cost, feed_dict={x:feature_batch, y:label_batch, keep_prob:1.0}) \n",
    "    acc = session.run(accuracy, feed_dict={x:valid_features, y:valid_labels, keep_prob:1.0})\n",
    "    print('Loss:{0} ValidationAccuracy:{1}'.format(loss, acc))"
   ]
  },
  {
   "cell_type": "markdown",
   "metadata": {},
   "source": [
    "### Hyperparameters\n",
    "Tune the following parameters:\n",
    "* Set `epochs` to the number of iterations until the network stops learning or start overfitting\n",
    "* Set `batch_size` to the highest number that your machine has memory for.  Most people set them to common sizes of memory:\n",
    " * 64\n",
    " * 128\n",
    " * 256\n",
    " * ...\n",
    "* Set `keep_probability` to the probability of keeping a node using dropout"
   ]
  },
  {
   "cell_type": "code",
   "execution_count": 15,
   "metadata": {
    "collapsed": true
   },
   "outputs": [],
   "source": [
    "# TODO: Tune Parameters\n",
    "epochs = 25\n",
    "batch_size = 128\n",
    "keep_probability = 0.85"
   ]
  },
  {
   "cell_type": "markdown",
   "metadata": {},
   "source": [
    "### Train on a Single CIFAR-10 Batch\n",
    "Instead of training the neural network on all the CIFAR-10 batches of data, let's use a single batch. This should save time while you iterate on the model to get a better accuracy.  Once the final validation accuracy is 50% or greater, run the model on all the data in the next section."
   ]
  },
  {
   "cell_type": "code",
   "execution_count": 16,
   "metadata": {},
   "outputs": [
    {
     "name": "stdout",
     "output_type": "stream",
     "text": [
      "Checking the Training on a Single Batch...\n",
      "Epoch  1, CIFAR-10 Batch 1:  Loss:2.057654857635498 ValidationAccuracy:0.3765999972820282\n",
      "Epoch  2, CIFAR-10 Batch 1:  Loss:1.7510719299316406 ValidationAccuracy:0.42480000853538513\n",
      "Epoch  3, CIFAR-10 Batch 1:  Loss:1.4911466836929321 ValidationAccuracy:0.4611999988555908\n",
      "Epoch  4, CIFAR-10 Batch 1:  Loss:1.2344905138015747 ValidationAccuracy:0.4936000108718872\n",
      "Epoch  5, CIFAR-10 Batch 1:  Loss:1.0484291315078735 ValidationAccuracy:0.5152000188827515\n",
      "Epoch  6, CIFAR-10 Batch 1:  Loss:0.908099353313446 ValidationAccuracy:0.510200023651123\n",
      "Epoch  7, CIFAR-10 Batch 1:  Loss:0.7628533244132996 ValidationAccuracy:0.5248000025749207\n",
      "Epoch  8, CIFAR-10 Batch 1:  Loss:0.6726556420326233 ValidationAccuracy:0.5135999917984009\n",
      "Epoch  9, CIFAR-10 Batch 1:  Loss:0.5909909009933472 ValidationAccuracy:0.5242000222206116\n",
      "Epoch 10, CIFAR-10 Batch 1:  Loss:0.4935244619846344 ValidationAccuracy:0.532800018787384\n",
      "Epoch 11, CIFAR-10 Batch 1:  Loss:0.37329140305519104 ValidationAccuracy:0.5400000214576721\n",
      "Epoch 12, CIFAR-10 Batch 1:  Loss:0.3242056667804718 ValidationAccuracy:0.5338000059127808\n",
      "Epoch 13, CIFAR-10 Batch 1:  Loss:0.2717473804950714 ValidationAccuracy:0.5149999856948853\n",
      "Epoch 14, CIFAR-10 Batch 1:  Loss:0.18866555392742157 ValidationAccuracy:0.5198000073432922\n",
      "Epoch 15, CIFAR-10 Batch 1:  Loss:0.17999367415905 ValidationAccuracy:0.5045999884605408\n",
      "Epoch 16, CIFAR-10 Batch 1:  Loss:0.139351025223732 ValidationAccuracy:0.534600019454956\n",
      "Epoch 17, CIFAR-10 Batch 1:  Loss:0.1463906168937683 ValidationAccuracy:0.5374000072479248\n",
      "Epoch 18, CIFAR-10 Batch 1:  Loss:0.08608599752187729 ValidationAccuracy:0.5436000227928162\n",
      "Epoch 19, CIFAR-10 Batch 1:  Loss:0.0847347155213356 ValidationAccuracy:0.5234000086784363\n",
      "Epoch 20, CIFAR-10 Batch 1:  Loss:0.05321643501520157 ValidationAccuracy:0.5428000092506409\n",
      "Epoch 21, CIFAR-10 Batch 1:  Loss:0.03316732496023178 ValidationAccuracy:0.5393999814987183\n",
      "Epoch 22, CIFAR-10 Batch 1:  Loss:0.028377795591950417 ValidationAccuracy:0.5410000085830688\n",
      "Epoch 23, CIFAR-10 Batch 1:  Loss:0.06588038057088852 ValidationAccuracy:0.5296000242233276\n",
      "Epoch 24, CIFAR-10 Batch 1:  Loss:0.025238826870918274 ValidationAccuracy:0.5353999733924866\n",
      "Epoch 25, CIFAR-10 Batch 1:  Loss:0.022770648822188377 ValidationAccuracy:0.5320000052452087\n"
     ]
    }
   ],
   "source": [
    "\"\"\"\n",
    "DON'T MODIFY ANYTHING IN THIS CELL\n",
    "\"\"\"\n",
    "print('Checking the Training on a Single Batch...')\n",
    "with tf.Session() as sess:\n",
    "    # Initializing the variables\n",
    "    sess.run(tf.global_variables_initializer())\n",
    "    \n",
    "    # Training cycle\n",
    "    for epoch in range(epochs):\n",
    "        batch_i = 1\n",
    "        for batch_features, batch_labels in helper.load_preprocess_training_batch(batch_i, batch_size):\n",
    "            train_neural_network(sess, optimizer, keep_probability, batch_features, batch_labels)\n",
    "        print('Epoch {:>2}, CIFAR-10 Batch {}:  '.format(epoch + 1, batch_i), end='')\n",
    "        print_stats(sess, batch_features, batch_labels, cost, accuracy)"
   ]
  },
  {
   "cell_type": "markdown",
   "metadata": {},
   "source": [
    "### Fully Train the Model\n",
    "Now that you got a good accuracy with a single CIFAR-10 batch, try it with all five batches."
   ]
  },
  {
   "cell_type": "code",
   "execution_count": 17,
   "metadata": {},
   "outputs": [
    {
     "name": "stdout",
     "output_type": "stream",
     "text": [
      "Training...\n",
      "Epoch  1, CIFAR-10 Batch 1:  Loss:1.9843343496322632 ValidationAccuracy:0.3643999993801117\n",
      "Epoch  1, CIFAR-10 Batch 2:  Loss:1.4552382230758667 ValidationAccuracy:0.43380001187324524\n",
      "Epoch  1, CIFAR-10 Batch 3:  Loss:1.2756340503692627 ValidationAccuracy:0.4666000008583069\n",
      "Epoch  1, CIFAR-10 Batch 4:  Loss:1.378039002418518 ValidationAccuracy:0.4864000082015991\n",
      "Epoch  1, CIFAR-10 Batch 5:  Loss:1.3970838785171509 ValidationAccuracy:0.5386000275611877\n",
      "Epoch  2, CIFAR-10 Batch 1:  Loss:1.3699613809585571 ValidationAccuracy:0.5306000113487244\n",
      "Epoch  2, CIFAR-10 Batch 2:  Loss:1.0147178173065186 ValidationAccuracy:0.5149999856948853\n",
      "Epoch  2, CIFAR-10 Batch 3:  Loss:0.8903495669364929 ValidationAccuracy:0.5564000010490417\n",
      "Epoch  2, CIFAR-10 Batch 4:  Loss:1.1245179176330566 ValidationAccuracy:0.5623999834060669\n",
      "Epoch  2, CIFAR-10 Batch 5:  Loss:1.0991191864013672 ValidationAccuracy:0.5817999839782715\n",
      "Epoch  3, CIFAR-10 Batch 1:  Loss:1.0927538871765137 ValidationAccuracy:0.5753999948501587\n",
      "Epoch  3, CIFAR-10 Batch 2:  Loss:0.7712411880493164 ValidationAccuracy:0.576200008392334\n",
      "Epoch  3, CIFAR-10 Batch 3:  Loss:0.6603909730911255 ValidationAccuracy:0.600600004196167\n",
      "Epoch  3, CIFAR-10 Batch 4:  Loss:0.8931878805160522 ValidationAccuracy:0.6050000190734863\n",
      "Epoch  3, CIFAR-10 Batch 5:  Loss:0.854142963886261 ValidationAccuracy:0.61080002784729\n",
      "Epoch  4, CIFAR-10 Batch 1:  Loss:0.913512110710144 ValidationAccuracy:0.6122000217437744\n",
      "Epoch  4, CIFAR-10 Batch 2:  Loss:0.5872360467910767 ValidationAccuracy:0.6083999872207642\n",
      "Epoch  4, CIFAR-10 Batch 3:  Loss:0.5119054913520813 ValidationAccuracy:0.6173999905586243\n",
      "Epoch  4, CIFAR-10 Batch 4:  Loss:0.6773603558540344 ValidationAccuracy:0.6248000264167786\n",
      "Epoch  4, CIFAR-10 Batch 5:  Loss:0.6393463015556335 ValidationAccuracy:0.6263999938964844\n",
      "Epoch  5, CIFAR-10 Batch 1:  Loss:0.7326125502586365 ValidationAccuracy:0.6173999905586243\n",
      "Epoch  5, CIFAR-10 Batch 2:  Loss:0.4525197446346283 ValidationAccuracy:0.6133999824523926\n",
      "Epoch  5, CIFAR-10 Batch 3:  Loss:0.36333099007606506 ValidationAccuracy:0.6244000196456909\n",
      "Epoch  5, CIFAR-10 Batch 4:  Loss:0.5698353052139282 ValidationAccuracy:0.6330000162124634\n",
      "Epoch  5, CIFAR-10 Batch 5:  Loss:0.5653838515281677 ValidationAccuracy:0.6345999836921692\n",
      "Epoch  6, CIFAR-10 Batch 1:  Loss:0.5846047401428223 ValidationAccuracy:0.6287999749183655\n",
      "Epoch  6, CIFAR-10 Batch 2:  Loss:0.33442237973213196 ValidationAccuracy:0.6169999837875366\n",
      "Epoch  6, CIFAR-10 Batch 3:  Loss:0.286898136138916 ValidationAccuracy:0.6341999769210815\n",
      "Epoch  6, CIFAR-10 Batch 4:  Loss:0.3753248453140259 ValidationAccuracy:0.6344000101089478\n",
      "Epoch  6, CIFAR-10 Batch 5:  Loss:0.5112305879592896 ValidationAccuracy:0.614799976348877\n",
      "Epoch  7, CIFAR-10 Batch 1:  Loss:0.48890361189842224 ValidationAccuracy:0.6226000189781189\n",
      "Epoch  7, CIFAR-10 Batch 2:  Loss:0.3254556953907013 ValidationAccuracy:0.6262000203132629\n",
      "Epoch  7, CIFAR-10 Batch 3:  Loss:0.24546709656715393 ValidationAccuracy:0.6248000264167786\n",
      "Epoch  7, CIFAR-10 Batch 4:  Loss:0.2675497531890869 ValidationAccuracy:0.628600001335144\n",
      "Epoch  7, CIFAR-10 Batch 5:  Loss:0.35758844017982483 ValidationAccuracy:0.6377999782562256\n",
      "Epoch  8, CIFAR-10 Batch 1:  Loss:0.3908575177192688 ValidationAccuracy:0.6344000101089478\n",
      "Epoch  8, CIFAR-10 Batch 2:  Loss:0.3077714443206787 ValidationAccuracy:0.6195999979972839\n",
      "Epoch  8, CIFAR-10 Batch 3:  Loss:0.2241090089082718 ValidationAccuracy:0.6222000122070312\n",
      "Epoch  8, CIFAR-10 Batch 4:  Loss:0.25693127512931824 ValidationAccuracy:0.6287999749183655\n",
      "Epoch  8, CIFAR-10 Batch 5:  Loss:0.30915334820747375 ValidationAccuracy:0.6161999702453613\n",
      "Epoch  9, CIFAR-10 Batch 1:  Loss:0.308968186378479 ValidationAccuracy:0.6276000142097473\n",
      "Epoch  9, CIFAR-10 Batch 2:  Loss:0.23975689709186554 ValidationAccuracy:0.6244000196456909\n",
      "Epoch  9, CIFAR-10 Batch 3:  Loss:0.20759841799736023 ValidationAccuracy:0.6161999702453613\n",
      "Epoch  9, CIFAR-10 Batch 4:  Loss:0.19773609936237335 ValidationAccuracy:0.6164000034332275\n",
      "Epoch  9, CIFAR-10 Batch 5:  Loss:0.22787031531333923 ValidationAccuracy:0.6173999905586243\n",
      "Epoch 10, CIFAR-10 Batch 1:  Loss:0.26311537623405457 ValidationAccuracy:0.6266000270843506\n",
      "Epoch 10, CIFAR-10 Batch 2:  Loss:0.1265297383069992 ValidationAccuracy:0.6150000095367432\n",
      "Epoch 10, CIFAR-10 Batch 3:  Loss:0.14665012061595917 ValidationAccuracy:0.5996000170707703\n",
      "Epoch 10, CIFAR-10 Batch 4:  Loss:0.18821290135383606 ValidationAccuracy:0.620199978351593\n",
      "Epoch 10, CIFAR-10 Batch 5:  Loss:0.15402314066886902 ValidationAccuracy:0.6312000155448914\n",
      "Epoch 11, CIFAR-10 Batch 1:  Loss:0.27321141958236694 ValidationAccuracy:0.6218000054359436\n",
      "Epoch 11, CIFAR-10 Batch 2:  Loss:0.09568753838539124 ValidationAccuracy:0.6133999824523926\n",
      "Epoch 11, CIFAR-10 Batch 3:  Loss:0.09913554042577744 ValidationAccuracy:0.609000027179718\n",
      "Epoch 11, CIFAR-10 Batch 4:  Loss:0.1617373675107956 ValidationAccuracy:0.6212000250816345\n",
      "Epoch 11, CIFAR-10 Batch 5:  Loss:0.13683462142944336 ValidationAccuracy:0.6182000041007996\n",
      "Epoch 12, CIFAR-10 Batch 1:  Loss:0.2056962549686432 ValidationAccuracy:0.6227999925613403\n",
      "Epoch 12, CIFAR-10 Batch 2:  Loss:0.10787999629974365 ValidationAccuracy:0.6263999938964844\n",
      "Epoch 12, CIFAR-10 Batch 3:  Loss:0.09723812341690063 ValidationAccuracy:0.6158000230789185\n",
      "Epoch 12, CIFAR-10 Batch 4:  Loss:0.1430196911096573 ValidationAccuracy:0.6227999925613403\n",
      "Epoch 12, CIFAR-10 Batch 5:  Loss:0.15398159623146057 ValidationAccuracy:0.5935999751091003\n",
      "Epoch 13, CIFAR-10 Batch 1:  Loss:0.14525048434734344 ValidationAccuracy:0.6291999816894531\n",
      "Epoch 13, CIFAR-10 Batch 2:  Loss:0.05665753036737442 ValidationAccuracy:0.6308000087738037\n",
      "Epoch 13, CIFAR-10 Batch 3:  Loss:0.09380525350570679 ValidationAccuracy:0.6204000115394592\n",
      "Epoch 13, CIFAR-10 Batch 4:  Loss:0.1427479088306427 ValidationAccuracy:0.6028000116348267\n",
      "Epoch 13, CIFAR-10 Batch 5:  Loss:0.09745249897241592 ValidationAccuracy:0.6079999804496765\n",
      "Epoch 14, CIFAR-10 Batch 1:  Loss:0.13186979293823242 ValidationAccuracy:0.626800000667572\n",
      "Epoch 14, CIFAR-10 Batch 2:  Loss:0.06546197086572647 ValidationAccuracy:0.6137999892234802\n",
      "Epoch 14, CIFAR-10 Batch 3:  Loss:0.04323183372616768 ValidationAccuracy:0.607200026512146\n",
      "Epoch 14, CIFAR-10 Batch 4:  Loss:0.09982097148895264 ValidationAccuracy:0.6061999797821045\n",
      "Epoch 14, CIFAR-10 Batch 5:  Loss:0.07762619107961655 ValidationAccuracy:0.6011999845504761\n",
      "Epoch 15, CIFAR-10 Batch 1:  Loss:0.09227132052183151 ValidationAccuracy:0.6323999762535095\n",
      "Epoch 15, CIFAR-10 Batch 2:  Loss:0.048429861664772034 ValidationAccuracy:0.6269999742507935\n",
      "Epoch 15, CIFAR-10 Batch 3:  Loss:0.04474704712629318 ValidationAccuracy:0.6065999865531921\n",
      "Epoch 15, CIFAR-10 Batch 4:  Loss:0.09276429563760757 ValidationAccuracy:0.6083999872207642\n",
      "Epoch 15, CIFAR-10 Batch 5:  Loss:0.05086212232708931 ValidationAccuracy:0.61080002784729\n",
      "Epoch 16, CIFAR-10 Batch 1:  Loss:0.059703052043914795 ValidationAccuracy:0.628000020980835\n",
      "Epoch 16, CIFAR-10 Batch 2:  Loss:0.056514937430620193 ValidationAccuracy:0.6209999918937683\n",
      "Epoch 16, CIFAR-10 Batch 3:  Loss:0.06828095018863678 ValidationAccuracy:0.6061999797821045\n",
      "Epoch 16, CIFAR-10 Batch 4:  Loss:0.051764994859695435 ValidationAccuracy:0.5982000231742859\n",
      "Epoch 16, CIFAR-10 Batch 5:  Loss:0.0516333281993866 ValidationAccuracy:0.6215999722480774\n",
      "Epoch 17, CIFAR-10 Batch 1:  Loss:0.04674718901515007 ValidationAccuracy:0.6083999872207642\n",
      "Epoch 17, CIFAR-10 Batch 2:  Loss:0.054757583886384964 ValidationAccuracy:0.6197999715805054\n",
      "Epoch 17, CIFAR-10 Batch 3:  Loss:0.03630276769399643 ValidationAccuracy:0.605400025844574\n",
      "Epoch 17, CIFAR-10 Batch 4:  Loss:0.03112911619246006 ValidationAccuracy:0.5916000008583069\n",
      "Epoch 17, CIFAR-10 Batch 5:  Loss:0.06347575038671494 ValidationAccuracy:0.6195999979972839\n",
      "Epoch 18, CIFAR-10 Batch 1:  Loss:0.048169881105422974 ValidationAccuracy:0.6182000041007996\n",
      "Epoch 18, CIFAR-10 Batch 2:  Loss:0.04110320657491684 ValidationAccuracy:0.6144000291824341\n",
      "Epoch 18, CIFAR-10 Batch 3:  Loss:0.019529392942786217 ValidationAccuracy:0.6158000230789185\n",
      "Epoch 18, CIFAR-10 Batch 4:  Loss:0.0361279658973217 ValidationAccuracy:0.600600004196167\n"
     ]
    },
    {
     "name": "stdout",
     "output_type": "stream",
     "text": [
      "Epoch 18, CIFAR-10 Batch 5:  Loss:0.03871135786175728 ValidationAccuracy:0.6128000020980835\n",
      "Epoch 19, CIFAR-10 Batch 1:  Loss:0.045780837535858154 ValidationAccuracy:0.6086000204086304\n",
      "Epoch 19, CIFAR-10 Batch 2:  Loss:0.05262184143066406 ValidationAccuracy:0.6128000020980835\n",
      "Epoch 19, CIFAR-10 Batch 3:  Loss:0.013187614269554615 ValidationAccuracy:0.6092000007629395\n",
      "Epoch 19, CIFAR-10 Batch 4:  Loss:0.02492985688149929 ValidationAccuracy:0.5848000049591064\n",
      "Epoch 19, CIFAR-10 Batch 5:  Loss:0.052664708346128464 ValidationAccuracy:0.5920000076293945\n",
      "Epoch 20, CIFAR-10 Batch 1:  Loss:0.048578061163425446 ValidationAccuracy:0.6191999912261963\n",
      "Epoch 20, CIFAR-10 Batch 2:  Loss:0.054708559066057205 ValidationAccuracy:0.6014000177383423\n",
      "Epoch 20, CIFAR-10 Batch 3:  Loss:0.013200029730796814 ValidationAccuracy:0.6093999743461609\n",
      "Epoch 20, CIFAR-10 Batch 4:  Loss:0.05750735476613045 ValidationAccuracy:0.5784000158309937\n",
      "Epoch 20, CIFAR-10 Batch 5:  Loss:0.046880077570676804 ValidationAccuracy:0.602400004863739\n",
      "Epoch 21, CIFAR-10 Batch 1:  Loss:0.03179707005620003 ValidationAccuracy:0.6110000014305115\n",
      "Epoch 21, CIFAR-10 Batch 2:  Loss:0.024694442749023438 ValidationAccuracy:0.5934000015258789\n",
      "Epoch 21, CIFAR-10 Batch 3:  Loss:0.016563523560762405 ValidationAccuracy:0.5884000062942505\n",
      "Epoch 21, CIFAR-10 Batch 4:  Loss:0.04936475306749344 ValidationAccuracy:0.5932000279426575\n",
      "Epoch 21, CIFAR-10 Batch 5:  Loss:0.014711739495396614 ValidationAccuracy:0.6208000183105469\n",
      "Epoch 22, CIFAR-10 Batch 1:  Loss:0.02500743232667446 ValidationAccuracy:0.6110000014305115\n",
      "Epoch 22, CIFAR-10 Batch 2:  Loss:0.029747020453214645 ValidationAccuracy:0.5943999886512756\n",
      "Epoch 22, CIFAR-10 Batch 3:  Loss:0.005171008408069611 ValidationAccuracy:0.6057999730110168\n",
      "Epoch 22, CIFAR-10 Batch 4:  Loss:0.037068016827106476 ValidationAccuracy:0.5985999703407288\n",
      "Epoch 22, CIFAR-10 Batch 5:  Loss:0.00565386563539505 ValidationAccuracy:0.6150000095367432\n",
      "Epoch 23, CIFAR-10 Batch 1:  Loss:0.023495716974139214 ValidationAccuracy:0.6222000122070312\n",
      "Epoch 23, CIFAR-10 Batch 2:  Loss:0.01729724183678627 ValidationAccuracy:0.6087999939918518\n",
      "Epoch 23, CIFAR-10 Batch 3:  Loss:0.007613970432430506 ValidationAccuracy:0.5961999893188477\n",
      "Epoch 23, CIFAR-10 Batch 4:  Loss:0.030924493446946144 ValidationAccuracy:0.5852000117301941\n",
      "Epoch 23, CIFAR-10 Batch 5:  Loss:0.005296151619404554 ValidationAccuracy:0.6195999979972839\n",
      "Epoch 24, CIFAR-10 Batch 1:  Loss:0.020919308066368103 ValidationAccuracy:0.6255999803543091\n",
      "Epoch 24, CIFAR-10 Batch 2:  Loss:0.012210269458591938 ValidationAccuracy:0.5965999960899353\n",
      "Epoch 24, CIFAR-10 Batch 3:  Loss:0.005026990082114935 ValidationAccuracy:0.5968000292778015\n",
      "Epoch 24, CIFAR-10 Batch 4:  Loss:0.021413806825876236 ValidationAccuracy:0.5965999960899353\n",
      "Epoch 24, CIFAR-10 Batch 5:  Loss:0.004941289313137531 ValidationAccuracy:0.6209999918937683\n",
      "Epoch 25, CIFAR-10 Batch 1:  Loss:0.05552023649215698 ValidationAccuracy:0.5983999967575073\n",
      "Epoch 25, CIFAR-10 Batch 2:  Loss:0.01844894513487816 ValidationAccuracy:0.600600004196167\n",
      "Epoch 25, CIFAR-10 Batch 3:  Loss:0.004345025401562452 ValidationAccuracy:0.6051999926567078\n",
      "Epoch 25, CIFAR-10 Batch 4:  Loss:0.03649890795350075 ValidationAccuracy:0.6118000149726868\n",
      "Epoch 25, CIFAR-10 Batch 5:  Loss:0.00978196132928133 ValidationAccuracy:0.6046000123023987\n"
     ]
    }
   ],
   "source": [
    "\"\"\"\n",
    "DON'T MODIFY ANYTHING IN THIS CELL\n",
    "\"\"\"\n",
    "save_model_path = './image_classification'\n",
    "\n",
    "print('Training...')\n",
    "with tf.Session() as sess:\n",
    "    # Initializing the variables\n",
    "    sess.run(tf.global_variables_initializer())\n",
    "    \n",
    "    # Training cycle\n",
    "    for epoch in range(epochs):\n",
    "        # Loop over all batches\n",
    "        n_batches = 5\n",
    "        for batch_i in range(1, n_batches + 1):\n",
    "            for batch_features, batch_labels in helper.load_preprocess_training_batch(batch_i, batch_size):\n",
    "                train_neural_network(sess, optimizer, keep_probability, batch_features, batch_labels)\n",
    "            print('Epoch {:>2}, CIFAR-10 Batch {}:  '.format(epoch + 1, batch_i), end='')\n",
    "            print_stats(sess, batch_features, batch_labels, cost, accuracy)\n",
    "            \n",
    "    # Save Model\n",
    "    saver = tf.train.Saver()\n",
    "    save_path = saver.save(sess, save_model_path)"
   ]
  },
  {
   "cell_type": "markdown",
   "metadata": {},
   "source": [
    "# Checkpoint\n",
    "The model has been saved to disk.\n",
    "## Test Model\n",
    "Test your model against the test dataset.  This will be your final accuracy. You should have an accuracy greater than 50%. If you don't, keep tweaking the model architecture and parameters."
   ]
  },
  {
   "cell_type": "code",
   "execution_count": 18,
   "metadata": {},
   "outputs": [
    {
     "name": "stdout",
     "output_type": "stream",
     "text": [
      "INFO:tensorflow:Restoring parameters from ./image_classification\n",
      "Testing Accuracy: 0.606309335443038\n",
      "\n"
     ]
    },
    {
     "data": {
      "image/png": "[encoded data removed]",
      "text/plain": [
       "<matplotlib.figure.Figure at 0xa62e748>"
      ]
     },
     "metadata": {
      "image/png": {
       "height": 319,
       "width": 355
      }
     },
     "output_type": "display_data"
    }
   ],
   "source": [
    "\"\"\"\n",
    "DON'T MODIFY ANYTHING IN THIS CELL\n",
    "\"\"\"\n",
    "%matplotlib inline\n",
    "%config InlineBackend.figure_format = 'retina'\n",
    "\n",
    "import tensorflow as tf\n",
    "import pickle\n",
    "import helper\n",
    "import random\n",
    "\n",
    "# Set batch size if not already set\n",
    "try:\n",
    "    if batch_size:\n",
    "        pass\n",
    "except NameError:\n",
    "    batch_size = 64\n",
    "\n",
    "save_model_path = './image_classification'\n",
    "n_samples = 4\n",
    "top_n_predictions = 3\n",
    "\n",
    "def test_model():\n",
    "    \"\"\"\n",
    "    Test the saved model against the test dataset\n",
    "    \"\"\"\n",
    "\n",
    "    test_features, test_labels = pickle.load(open('preprocess_training.p', mode='rb'))\n",
    "    loaded_graph = tf.Graph()\n",
    "\n",
    "    with tf.Session(graph=loaded_graph) as sess:\n",
    "        # Load model\n",
    "        loader = tf.train.import_meta_graph(save_model_path + '.meta')\n",
    "        loader.restore(sess, save_model_path)\n",
    "\n",
    "        # Get Tensors from loaded model\n",
    "        loaded_x = loaded_graph.get_tensor_by_name('x:0')\n",
    "        loaded_y = loaded_graph.get_tensor_by_name('y:0')\n",
    "        loaded_keep_prob = loaded_graph.get_tensor_by_name('keep_prob:0')\n",
    "        loaded_logits = loaded_graph.get_tensor_by_name('logits:0')\n",
    "        loaded_acc = loaded_graph.get_tensor_by_name('accuracy:0')\n",
    "        \n",
    "        # Get accuracy in batches for memory limitations\n",
    "        test_batch_acc_total = 0\n",
    "        test_batch_count = 0\n",
    "        \n",
    "        for train_feature_batch, train_label_batch in helper.batch_features_labels(test_features, test_labels, batch_size):\n",
    "            test_batch_acc_total += sess.run(\n",
    "                loaded_acc,\n",
    "                feed_dict={loaded_x: train_feature_batch, loaded_y: train_label_batch, loaded_keep_prob: 1.0})\n",
    "            test_batch_count += 1\n",
    "\n",
    "        print('Testing Accuracy: {}\\n'.format(test_batch_acc_total/test_batch_count))\n",
    "\n",
    "        # Print Random Samples\n",
    "        random_test_features, random_test_labels = tuple(zip(*random.sample(list(zip(test_features, test_labels)), n_samples)))\n",
    "        random_test_predictions = sess.run(\n",
    "            tf.nn.top_k(tf.nn.softmax(loaded_logits), top_n_predictions),\n",
    "            feed_dict={loaded_x: random_test_features, loaded_y: random_test_labels, loaded_keep_prob: 1.0})\n",
    "        helper.display_image_predictions(random_test_features, random_test_labels, random_test_predictions)\n",
    "\n",
    "\n",
    "test_model()"
   ]
  },
  {
   "cell_type": "markdown",
   "metadata": {},
   "source": [
    "## Why 50-80% Accuracy?\n",
    "You might be wondering why you can't get an accuracy any higher. First things first, 50% isn't bad for a simple CNN.  Pure guessing would get you 10% accuracy. That's because there are many more techniques that can be applied to your model and we recemmond that once you are done with this project, you explore!\n",
    "\n",
    "## Submitting This Project\n",
    "When submitting this project, make sure to run all the cells before saving the notebook.  Save the notebook file as \"image_classification.ipynb\" and save it as a HTML file under \"File\" -> \"Download as\".  Include the \"helper.py\" and \"problem_unittests.py\" files in your submission."
   ]
  }
 ],
 "metadata": {
  "kernelspec": {
   "display_name": "Python 3",
   "language": "python",
   "name": "python3"
  },
  "language_info": {
   "codemirror_mode": {
    "name": "ipython",
    "version": 3
   },
   "file_extension": ".py",
   "mimetype": "text/x-python",
   "name": "python",
   "nbconvert_exporter": "python",
   "pygments_lexer": "ipython3",
   "version": "3.5.3"
  }
 },
 "nbformat": 4,
 "nbformat_minor": 1
}
